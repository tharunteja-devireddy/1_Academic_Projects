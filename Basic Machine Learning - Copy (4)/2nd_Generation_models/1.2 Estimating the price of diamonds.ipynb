{
 "cells": [
  {
   "cell_type": "markdown",
   "id": "13395e93",
   "metadata": {},
   "source": [
    "<a id = 'top'></a>\n",
    "### Estimating the cost of a Diamond from its attributes\n",
    "- [Aim](#aim)\n",
    "- [Data](#data)\n",
    "    - [Loading the data](#load)\n",
    "    - [Data wrangling](#clean)\n",
    "       - [Handling null values](#nulls)\n",
    "       - [Handling duplicated rows](#duplicates)\n",
    "       - [Converting Categorical variables into Numeric variables](#convert)\n",
    "- [Statistical Data Analysis](#eda)\n",
    "- [Data Normalization and train test splitting](#nsplit)\n",
    "-  **Model building**\n",
    "  - [Linear Regressoion ](#linear)\n",
    "  - [Ridge regressor](#ridge)\n",
    "  - [Knn regressor](#knn)\n",
    "  - [Decision tree regressor](#dtree)\n",
    "  - [Random Forest regressor](#rforest)\n",
    "  - [Ann regressor](#ann)\n",
    "\n",
    "- [Comparing the performance of models and report](#conclusion)\n",
    "------------------------------------------------------------------------------------[BACK TO TOP](#top)"
   ]
  },
  {
   "cell_type": "code",
   "execution_count": 1,
   "id": "e027fbd4",
   "metadata": {},
   "outputs": [],
   "source": [
    "import numpy as np,pandas as pd\n",
    "import tensorflow as tf\n",
    "import tensorflow_addons as tfa\n",
    "import sklearn\n",
    "import math,random,scipy,os\n",
    "import matplotlib.pyplot as plt,seaborn as sns,plotly.express as px\n",
    "plt.style.use('fivethirtyeight')"
   ]
  },
  {
   "cell_type": "markdown",
   "id": "a81f6f2d",
   "metadata": {},
   "source": [
    "<a id = 'aim'></a>\n",
    "### Aim\n",
    "- Develop a predictive regression model that is capable on predicting the price of a diamond by taking the features of the diamonds as input\n",
    "<a id = 'data'></a>\n",
    "### Data \n",
    "- we sourced our data from kaggle [LINK](https://www.kaggle.com/datasets/nancyalaswad90/diamonds-prices)\n",
    "-  This document explores a dataset containing prices and attributes for approximately 54,000 round-cut diamonds.\n",
    "- There are 53,940 diamonds in the dataset with 10 features (carat, cut, color, clarity, depth, table, price, x, y, and z).\n",
    "- Most variables are numeric in nature, but the variables cut, color, and clarity are ordered factor variables with the following levels.\n",
    "  - About the currency for the price column: it is Price ($)\n",
    "  - And About the columns x,y, and z they are diamond measurements as (( x: length in mm, y: width in mm,z: depth in mm ))\n",
    "\n",
    "------------------------------------------------------------------------------------[BACK TO TOP](#top)"
   ]
  },
  {
   "cell_type": "markdown",
   "id": "8e8376ae",
   "metadata": {},
   "source": [
    "<a id = 'load'></a>\n",
    "### loading the data"
   ]
  },
  {
   "cell_type": "code",
   "execution_count": 2,
   "id": "43823bbd",
   "metadata": {},
   "outputs": [
    {
     "name": "stdout",
     "output_type": "stream",
     "text": [
      "(53943, 11)\n"
     ]
    },
    {
     "data": {
      "text/html": [
       "<div>\n",
       "<style scoped>\n",
       "    .dataframe tbody tr th:only-of-type {\n",
       "        vertical-align: middle;\n",
       "    }\n",
       "\n",
       "    .dataframe tbody tr th {\n",
       "        vertical-align: top;\n",
       "    }\n",
       "\n",
       "    .dataframe thead th {\n",
       "        text-align: right;\n",
       "    }\n",
       "</style>\n",
       "<table border=\"1\" class=\"dataframe\">\n",
       "  <thead>\n",
       "    <tr style=\"text-align: right;\">\n",
       "      <th></th>\n",
       "      <th>Unnamed: 0</th>\n",
       "      <th>carat</th>\n",
       "      <th>cut</th>\n",
       "      <th>color</th>\n",
       "      <th>clarity</th>\n",
       "      <th>depth</th>\n",
       "      <th>table</th>\n",
       "      <th>price</th>\n",
       "      <th>x</th>\n",
       "      <th>y</th>\n",
       "      <th>z</th>\n",
       "    </tr>\n",
       "  </thead>\n",
       "  <tbody>\n",
       "    <tr>\n",
       "      <th>0</th>\n",
       "      <td>1</td>\n",
       "      <td>0.23</td>\n",
       "      <td>Ideal</td>\n",
       "      <td>E</td>\n",
       "      <td>SI2</td>\n",
       "      <td>61.5</td>\n",
       "      <td>55.0</td>\n",
       "      <td>326</td>\n",
       "      <td>3.95</td>\n",
       "      <td>3.98</td>\n",
       "      <td>2.43</td>\n",
       "    </tr>\n",
       "    <tr>\n",
       "      <th>1</th>\n",
       "      <td>2</td>\n",
       "      <td>0.21</td>\n",
       "      <td>Premium</td>\n",
       "      <td>E</td>\n",
       "      <td>SI1</td>\n",
       "      <td>59.8</td>\n",
       "      <td>61.0</td>\n",
       "      <td>326</td>\n",
       "      <td>3.89</td>\n",
       "      <td>3.84</td>\n",
       "      <td>2.31</td>\n",
       "    </tr>\n",
       "    <tr>\n",
       "      <th>2</th>\n",
       "      <td>3</td>\n",
       "      <td>0.23</td>\n",
       "      <td>Good</td>\n",
       "      <td>E</td>\n",
       "      <td>VS1</td>\n",
       "      <td>56.9</td>\n",
       "      <td>65.0</td>\n",
       "      <td>327</td>\n",
       "      <td>4.05</td>\n",
       "      <td>4.07</td>\n",
       "      <td>2.31</td>\n",
       "    </tr>\n",
       "    <tr>\n",
       "      <th>3</th>\n",
       "      <td>4</td>\n",
       "      <td>0.29</td>\n",
       "      <td>Premium</td>\n",
       "      <td>I</td>\n",
       "      <td>VS2</td>\n",
       "      <td>62.4</td>\n",
       "      <td>58.0</td>\n",
       "      <td>334</td>\n",
       "      <td>4.20</td>\n",
       "      <td>4.23</td>\n",
       "      <td>2.63</td>\n",
       "    </tr>\n",
       "    <tr>\n",
       "      <th>4</th>\n",
       "      <td>5</td>\n",
       "      <td>0.31</td>\n",
       "      <td>Good</td>\n",
       "      <td>J</td>\n",
       "      <td>SI2</td>\n",
       "      <td>63.3</td>\n",
       "      <td>58.0</td>\n",
       "      <td>335</td>\n",
       "      <td>4.34</td>\n",
       "      <td>4.35</td>\n",
       "      <td>2.75</td>\n",
       "    </tr>\n",
       "  </tbody>\n",
       "</table>\n",
       "</div>"
      ],
      "text/plain": [
       "   Unnamed: 0  carat      cut color clarity  depth  table  price     x     y  \\\n",
       "0           1   0.23    Ideal     E     SI2   61.5   55.0    326  3.95  3.98   \n",
       "1           2   0.21  Premium     E     SI1   59.8   61.0    326  3.89  3.84   \n",
       "2           3   0.23     Good     E     VS1   56.9   65.0    327  4.05  4.07   \n",
       "3           4   0.29  Premium     I     VS2   62.4   58.0    334  4.20  4.23   \n",
       "4           5   0.31     Good     J     SI2   63.3   58.0    335  4.34  4.35   \n",
       "\n",
       "      z  \n",
       "0  2.43  \n",
       "1  2.31  \n",
       "2  2.31  \n",
       "3  2.63  \n",
       "4  2.75  "
      ]
     },
     "execution_count": 2,
     "metadata": {},
     "output_type": "execute_result"
    }
   ],
   "source": [
    "df = pd.read_csv('datasets/diamond/Diamonds Prices2022.csv')\n",
    "print(df.shape)\n",
    "df.head()"
   ]
  },
  {
   "cell_type": "markdown",
   "id": "e399dd97",
   "metadata": {},
   "source": [
    "<a id = 'clean'></a>\n",
    "### Data Wrangling\n",
    "- we will load the data and start preparing it\n",
    "\n",
    "**Preparation involves**\n",
    "1. drop unnecessary fields\n",
    "2. finding the nulls present in every field\n",
    "   1. the null values will be replaced by mean of that numeric field or\n",
    "   2. if it is a catfield they will be replaced by the mode of that field\n",
    "   3. if target fields contain nulls we will drop those records\n",
    "3. check wether there are any duplicated rows if they exist we will drop them\n",
    "4. convert categorical variables into numeric variables and store their mapping\n",
    "5. normalizing every field using zscore ((value-mean)/std)\n",
    "------------------------------------------------------------------------------------[BACK TO TOP](#top)"
   ]
  },
  {
   "cell_type": "markdown",
   "id": "b2b23623",
   "metadata": {},
   "source": [
    "#### Dropping unnecessary fields"
   ]
  },
  {
   "cell_type": "code",
   "execution_count": 3,
   "id": "6cad7df2",
   "metadata": {},
   "outputs": [],
   "source": [
    "# dropping unnecssary fields\n",
    "df = df.drop(columns = ['Unnamed: 0'])"
   ]
  },
  {
   "cell_type": "markdown",
   "id": "ba420a65",
   "metadata": {},
   "source": [
    "<a id = 'nulls'></a>\n",
    "#### Handling null values"
   ]
  },
  {
   "cell_type": "code",
   "execution_count": 4,
   "id": "46ab4d5a",
   "metadata": {},
   "outputs": [
    {
     "data": {
      "text/plain": [
       "carat      0\n",
       "cut        0\n",
       "color      0\n",
       "clarity    0\n",
       "depth      0\n",
       "table      0\n",
       "price      0\n",
       "x          0\n",
       "y          0\n",
       "z          0\n",
       "dtype: int64"
      ]
     },
     "execution_count": 4,
     "metadata": {},
     "output_type": "execute_result"
    }
   ],
   "source": [
    "# finding the no of nulls in each field\n",
    "df.isnull().sum()\n",
    "# no nulls in the data "
   ]
  },
  {
   "cell_type": "markdown",
   "id": "f6b29565",
   "metadata": {},
   "source": [
    "<a id = 'duplicates'></a>\n",
    "#### Handling duplicated records"
   ]
  },
  {
   "cell_type": "code",
   "execution_count": 5,
   "id": "d4d62f12",
   "metadata": {},
   "outputs": [
    {
     "name": "stdout",
     "output_type": "stream",
     "text": [
      "149\n",
      "0\n"
     ]
    }
   ],
   "source": [
    "# finding and eliminating duplicated rows\n",
    "print(df.duplicated().sum())\n",
    "df = df.drop_duplicates()\n",
    "print(df.duplicated().sum())"
   ]
  },
  {
   "cell_type": "markdown",
   "id": "e4e62d82",
   "metadata": {},
   "source": [
    "<a id = 'convert'></a>\n",
    "#### Converting categorical variables into numerical variables"
   ]
  },
  {
   "cell_type": "code",
   "execution_count": 6,
   "id": "706c0898",
   "metadata": {},
   "outputs": [],
   "source": [
    "# converting catfields into numeric and storing their index\n",
    "meta = {}\n",
    "meta['cut'] = sorted(list(df['cut'].unique()))\n",
    "meta['clarity'] = sorted(list(df['clarity'].unique()))\n",
    "meta['color'] = sorted(list(df['color'].unique()))\n",
    "\n",
    "df['cut'] = df['cut'].astype('category').cat.codes\n",
    "df['color'] = df['color'].astype('category').cat.codes\n",
    "df['clarity'] = df['clarity'].astype('category').cat.codes\n"
   ]
  },
  {
   "cell_type": "markdown",
   "id": "4992b907",
   "metadata": {},
   "source": [
    "<a id = 'eda'></a>\n",
    "### Statistical data analysis\n",
    "- the attributes : caret , x,y,z  have the highest influence on the price of the diamond positively"
   ]
  },
  {
   "cell_type": "code",
   "execution_count": 7,
   "id": "66484879",
   "metadata": {},
   "outputs": [
    {
     "data": {
      "text/plain": [
       "Text(0.5, 1.0, 'Correlation between various variables in the dataset')"
      ]
     },
     "execution_count": 7,
     "metadata": {},
     "output_type": "execute_result"
    },
    {
     "data": {
      "image/png": "[encoded data removed]",
      "text/plain": [
       "<Figure size 1152x576 with 2 Axes>"
      ]
     },
     "metadata": {},
     "output_type": "display_data"
    }
   ],
   "source": [
    "plt.figure(figsize=[16,8])\n",
    "sns.heatmap(df.corr().round(2),annot=True)\n",
    "plt.title('Correlation between various variables in the dataset')"
   ]
  },
  {
   "cell_type": "markdown",
   "id": "656140eb",
   "metadata": {},
   "source": [
    "<a id = 'nsplit'></a>\n",
    "#### Normalizing the data"
   ]
  },
  {
   "cell_type": "code",
   "execution_count": 8,
   "id": "84b2bf59",
   "metadata": {},
   "outputs": [],
   "source": [
    "# splitting data as input features and target labels and scaling the input features\n",
    "ydata = df['price']\n",
    "col = list(df.columns)\n",
    "col.remove('price')\n",
    "xdata = df[col]\n",
    "from sklearn.preprocessing import StandardScaler\n",
    "norm = StandardScaler(with_mean = True,with_std = True)\n",
    "norm.fit(xdata)\n",
    "xdata = norm.transform(xdata)"
   ]
  },
  {
   "cell_type": "markdown",
   "id": "6e120dbe",
   "metadata": {},
   "source": [
    "<a id = 'split'></a>\n",
    "#### Splitting the data into training and test sets"
   ]
  },
  {
   "cell_type": "code",
   "execution_count": 9,
   "id": "322fe583",
   "metadata": {},
   "outputs": [
    {
     "name": "stdout",
     "output_type": "stream",
     "text": [
      "(48414, 9) (48414,)\n",
      "(5380, 9) (5380,)\n"
     ]
    }
   ],
   "source": [
    "from sklearn.model_selection import train_test_split\n",
    "xtrain,xtest,ytrain,ytest = train_test_split(xdata,ydata,test_size=.1)\n",
    "print(xtrain.shape,ytrain.shape)\n",
    "print(xtest.shape,ytest.shape)"
   ]
  },
  {
   "cell_type": "code",
   "execution_count": 10,
   "id": "18ef5779",
   "metadata": {},
   "outputs": [],
   "source": [
    "from sklearn.model_selection import GridSearchCV\n",
    "from sklearn.metrics import r2_score,mean_absolute_error,mean_squared_error as mse\n",
    "from sklearn.preprocessing import PolynomialFeatures"
   ]
  },
  {
   "cell_type": "markdown",
   "id": "6cd59c6e",
   "metadata": {},
   "source": [
    "<a id = 'linear'></a>\n",
    "### Linear Regression model"
   ]
  },
  {
   "cell_type": "code",
   "execution_count": 11,
   "id": "27f869d8",
   "metadata": {},
   "outputs": [
    {
     "name": "stdout",
     "output_type": "stream",
     "text": [
      "the best training r2_score         =  0.8845565124009566\n",
      "the best cross validation r2_score =  0.8911838077967411\n",
      "r2 score  on the test set          =  0.8911838077967411\n",
      " training rmse =  1354.8840352227153\n",
      " test rmse     =  1316.7589010418008\n"
     ]
    }
   ],
   "source": [
    "# importing the linear regression model\n",
    "from sklearn.linear_model import LinearRegression \n",
    "lm = LinearRegression()\n",
    "\n",
    "para = {} # since simple linear model has no hyperparameters to tune we pass an empty dict\n",
    "\n",
    "lmcv = GridSearchCV(lm,para,cv=9)  \n",
    "lmcv.fit(xtrain,ytrain)   \n",
    "\n",
    "print('the best training r2_score         = ',lmcv.score(xtrain,ytrain))\n",
    "print('the best cross validation r2_score = ',lmcv.score(xtest,ytest))\n",
    "\n",
    "yhat = lmcv.predict(xtest)   # predicting the prices of rest of the houses\n",
    "print('r2 score  on the test set          = ',lmcv.score(xtest,ytest))     \n",
    "\n",
    "print(' training rmse = ',mse(lmcv.predict(xtrain),ytrain)**.5) \n",
    "print(' test rmse     = ',mse(lmcv.predict(xtest),ytest)**.5)"
   ]
  },
  {
   "cell_type": "markdown",
   "id": "ec353fa4",
   "metadata": {},
   "source": [
    "<a id = 'ridge'></a>\n",
    "### Ridge Regreesion model"
   ]
  },
  {
   "cell_type": "code",
   "execution_count": 12,
   "id": "af6a4352",
   "metadata": {},
   "outputs": [
    {
     "name": "stdout",
     "output_type": "stream",
     "text": [
      "the hyper parameters are tuned to \n",
      " {'alpha': 10.0}\n",
      "the best training r2_score         =  0.8845539547844006\n",
      "the best cross validation r2_score =  0.8911320358524121\n",
      "r2 score  on the test set          =  0.8911320358524121\n",
      " training rmse =  1354.8990436684883\n",
      " test rmse     =  1317.0721037947446\n"
     ]
    }
   ],
   "source": [
    "from sklearn.linear_model import Ridge\n",
    "\n",
    "ridge = Ridge()\n",
    "\n",
    "para = {'alpha':np.logspace(-3,1,10)} # since simple linear model has no hyperparameters to tune we pass an empty dict\n",
    "\n",
    "ridgecv = GridSearchCV(ridge,para,cv=9) # train 8 folds and cross validate 9th fold\n",
    "ridgecv.fit(xtrain,ytrain)              # training and cross validation\n",
    "\n",
    "print('the hyper parameters are tuned to \\n',ridgecv.best_params_)\n",
    "print('the best training r2_score         = ',ridgecv.score(xtrain,ytrain))\n",
    "print('the best cross validation r2_score = ',ridgecv.score(xtest,ytest))\n",
    "\n",
    "yhat = ridgecv.predict(xtest)   # predicting the prices of rest of the houses\n",
    "print('r2 score  on the test set          = ',ridgecv.score(xtest,ytest))   \n",
    "\n",
    "print(' training rmse = ',mse(ridgecv.predict(xtrain),ytrain)**.5) \n",
    "print(' test rmse     = ',mse(ridgecv.predict(xtest),ytest)**.5) "
   ]
  },
  {
   "cell_type": "markdown",
   "id": "1b36d8fc",
   "metadata": {},
   "source": [
    "<a id = 'knn'></a>\n",
    "### Knn Regressor"
   ]
  },
  {
   "cell_type": "code",
   "execution_count": 13,
   "id": "3db6e7bf",
   "metadata": {},
   "outputs": [
    {
     "name": "stdout",
     "output_type": "stream",
     "text": [
      "the hyper parameters are tuned to \n",
      " {'n_neighbors': 10}\n",
      "the best training r2_score         =  0.9656570953518038\n",
      "the best cross validation r2_score =  0.9599354771586198\n",
      "r2 score  on the test set          =  0.9599354771586198\n",
      " training rmse =  738.985502140536\n",
      " test rmse     =  798.9865855672152\n"
     ]
    }
   ],
   "source": [
    "from sklearn.neighbors import KNeighborsRegressor\n",
    "knn = KNeighborsRegressor()\n",
    "\n",
    "para = {'n_neighbors':[10,20,30,40,50]}\n",
    "knncv = GridSearchCV(knn,para,cv=9) # train on 8 folds and cross validate on 9th fold\n",
    "knncv.fit(xtrain,ytrain)           # train and cross validate\n",
    "print('the hyper parameters are tuned to \\n',knncv.best_params_)\n",
    "print('the best training r2_score         = ',knncv.score(xtrain,ytrain))\n",
    "print('the best cross validation r2_score = ',knncv.score(xtest,ytest))\n",
    "\n",
    "yhat = knncv.predict(xtest)   # predicting the prices of rest of the houses\n",
    "print('r2 score  on the test set          = ',knncv.score(xtest,ytest)) \n",
    "\n",
    "print(' training rmse = ',mse(knncv.predict(xtrain),ytrain)**.5) \n",
    "print(' test rmse     = ',mse(knncv.predict(xtest),ytest)**.5)"
   ]
  },
  {
   "cell_type": "markdown",
   "id": "0ba53692",
   "metadata": {},
   "source": [
    "<a id = 'dtree'></a>\n",
    "### Decision Tree Regressor"
   ]
  },
  {
   "cell_type": "code",
   "execution_count": 14,
   "id": "1a8424d1",
   "metadata": {},
   "outputs": [
    {
     "name": "stdout",
     "output_type": "stream",
     "text": [
      "the hyper parameters are tuned to \n",
      " {'max_depth': 12, 'splitter': 'best'}\n",
      "the best training r2_score         =  0.98750746343389\n",
      "the best cross validation r2_score =  0.9761375327191009\n",
      "r2 score  on the test set          =  0.9761375327191009\n",
      " training rmse =  445.700089047658\n",
      " test rmse     =  616.6193845576918\n"
     ]
    }
   ],
   "source": [
    "from sklearn.tree import DecisionTreeRegressor\n",
    "dtree = DecisionTreeRegressor()\n",
    "para = {'splitter':['best', 'random'],\n",
    "        'max_depth' :[2*n for n in range(5,10)]}\n",
    "\n",
    "dtreecv = GridSearchCV(dtree,para,cv=9)\n",
    "dtreecv.fit(xtrain,ytrain)\n",
    "print('the hyper parameters are tuned to \\n',dtreecv.best_params_)\n",
    "print('the best training r2_score         = ',dtreecv.score(xtrain,ytrain))\n",
    "print('the best cross validation r2_score = ',dtreecv.score(xtest,ytest))\n",
    "\n",
    "yhat = dtreecv.predict(xtest)   # predicting the prices of rest of the houses\n",
    "print('r2 score  on the test set          = ',dtreecv.score(xtest,ytest)) \n",
    "\n",
    "print(' training rmse = ',mse(dtreecv.predict(xtrain),ytrain)**.5) \n",
    "print(' test rmse     = ',mse(dtreecv.predict(xtest),ytest)**.5)"
   ]
  },
  {
   "cell_type": "markdown",
   "id": "6d127375",
   "metadata": {},
   "source": [
    "<a id = 'rforest'></a>\n",
    "### Random Forest Regressor"
   ]
  },
  {
   "cell_type": "code",
   "execution_count": 15,
   "id": "2fbcdc75",
   "metadata": {},
   "outputs": [
    {
     "name": "stdout",
     "output_type": "stream",
     "text": [
      "the hyper parameters are tuned to \n",
      " {'max_depth': 14, 'n_estimators': 5}\n",
      "the best training r2_score         =  0.990857762314538\n",
      "the best cross validation r2_score =  0.9779812249239381\n",
      "r2 score  on the test set          =  0.9779812249239381\n",
      " training rmse =  381.27967979531593\n",
      " test rmse     =  592.3195648926337\n"
     ]
    }
   ],
   "source": [
    "from sklearn.ensemble import RandomForestRegressor\n",
    "rforest = RandomForestRegressor()\n",
    "para = {\n",
    "        'n_estimators':list(range(2,6)),\n",
    "        'max_depth' :[2*n for n in range(4,8)],}\n",
    "\n",
    "rforestcv = GridSearchCV(rforest,para,cv=9)\n",
    "rforestcv.fit(xtrain,ytrain)\n",
    "print('the hyper parameters are tuned to \\n',rforestcv.best_params_)\n",
    "print('the best training r2_score         = ',rforestcv.score(xtrain,ytrain))\n",
    "print('the best cross validation r2_score = ',rforestcv.score(xtest,ytest))\n",
    "\n",
    "yhat = dtreecv.predict(xtest)   # predicting the prices of rest of the houses\n",
    "print('r2 score  on the test set          = ',rforestcv.score(xtest,ytest)) \n",
    "\n",
    "print(' training rmse = ',mse(rforestcv.predict(xtrain),ytrain)**.5) \n",
    "print(' test rmse     = ',mse(rforestcv.predict(xtest),ytest)**.5)"
   ]
  },
  {
   "cell_type": "markdown",
   "id": "a2446f6f",
   "metadata": {},
   "source": [
    "<a id = 'ann'></a>\n",
    "### Artifical Neural Network as Regressor"
   ]
  },
  {
   "cell_type": "code",
   "execution_count": 16,
   "id": "c501aa0d",
   "metadata": {},
   "outputs": [
    {
     "name": "stdout",
     "output_type": "stream",
     "text": [
      "Epoch 1/20\n",
      "1345/1345 [==============================] - 4s 2ms/step - loss: 20872632.0000 - r_square: -0.3086 - val_loss: 3462299.2500 - val_r_square: 0.7768\n",
      "Epoch 2/20\n",
      "1345/1345 [==============================] - 2s 2ms/step - loss: 3729789.0000 - r_square: 0.7662 - val_loss: 1852008.8750 - val_r_square: 0.8806\n",
      "Epoch 3/20\n",
      "1345/1345 [==============================] - 2s 2ms/step - loss: 3194267.0000 - r_square: 0.7997 - val_loss: 1612757.3750 - val_r_square: 0.8960\n",
      "Epoch 4/20\n",
      "1345/1345 [==============================] - 3s 2ms/step - loss: 2956621.2500 - r_square: 0.8146 - val_loss: 1520255.0000 - val_r_square: 0.9020\n",
      "Epoch 5/20\n",
      "1345/1345 [==============================] - 2s 2ms/step - loss: 3020615.5000 - r_square: 0.8106 - val_loss: 1567089.7500 - val_r_square: 0.8990\n",
      "Epoch 6/20\n",
      "1345/1345 [==============================] - 2s 2ms/step - loss: 3036728.2500 - r_square: 0.8096 - val_loss: 1470636.7500 - val_r_square: 0.9052\n",
      "Epoch 7/20\n",
      "1345/1345 [==============================] - 3s 2ms/step - loss: 2919233.0000 - r_square: 0.8170 - val_loss: 1619070.0000 - val_r_square: 0.8956\n",
      "Epoch 8/20\n",
      "1345/1345 [==============================] - 2s 2ms/step - loss: 2913415.7500 - r_square: 0.8173 - val_loss: 1455186.3750 - val_r_square: 0.9062\n",
      "Epoch 9/20\n",
      "1345/1345 [==============================] - 2s 2ms/step - loss: 2845831.7500 - r_square: 0.8216 - val_loss: 1440668.1250 - val_r_square: 0.9071\n",
      "Epoch 10/20\n",
      "1345/1345 [==============================] - 2s 2ms/step - loss: 2846544.2500 - r_square: 0.8215 - val_loss: 1416604.1250 - val_r_square: 0.9087\n",
      "Epoch 11/20\n",
      "1345/1345 [==============================] - 2s 2ms/step - loss: 2870897.0000 - r_square: 0.8200 - val_loss: 1463187.2500 - val_r_square: 0.9057\n",
      "Epoch 12/20\n",
      "1345/1345 [==============================] - 2s 2ms/step - loss: 2778120.7500 - r_square: 0.8258 - val_loss: 1400244.3750 - val_r_square: 0.9097\n",
      "Epoch 13/20\n",
      "1345/1345 [==============================] - 2s 2ms/step - loss: 2809919.2500 - r_square: 0.8238 - val_loss: 1390595.0000 - val_r_square: 0.9103\n",
      "Epoch 14/20\n",
      "1345/1345 [==============================] - 2s 2ms/step - loss: 2765266.2500 - r_square: 0.8266 - val_loss: 1375196.7500 - val_r_square: 0.9113\n",
      "Epoch 15/20\n",
      "1345/1345 [==============================] - 3s 2ms/step - loss: 2718860.2500 - r_square: 0.8295 - val_loss: 1357390.3750 - val_r_square: 0.9125\n",
      "Epoch 16/20\n",
      "1345/1345 [==============================] - 3s 2ms/step - loss: 2831746.5000 - r_square: 0.8225 - val_loss: 1410340.5000 - val_r_square: 0.9091\n",
      "Epoch 17/20\n",
      "1345/1345 [==============================] - 2s 2ms/step - loss: 2590625.7500 - r_square: 0.8376 - val_loss: 1338563.2500 - val_r_square: 0.9137\n",
      "Epoch 18/20\n",
      "1345/1345 [==============================] - 2s 2ms/step - loss: 2698419.7500 - r_square: 0.8308 - val_loss: 1384626.5000 - val_r_square: 0.9107\n",
      "Epoch 19/20\n",
      "1345/1345 [==============================] - 2s 2ms/step - loss: 2647652.7500 - r_square: 0.8340 - val_loss: 1343062.8750 - val_r_square: 0.9134\n",
      "Epoch 20/20\n",
      "1345/1345 [==============================] - 2s 2ms/step - loss: 2714781.7500 - r_square: 0.8298 - val_loss: 1352081.0000 - val_r_square: 0.9128\n",
      "169/169 [==============================] - 0s 1ms/step\n",
      " r2 score on traiing data          =  0.8297916650772095\n",
      " r2 score on cross validation data =  0.9128279089927673\n",
      " r2 score on test data             =  0.9157064845289974\n",
      "1513/1513 [==============================] - 1s 940us/step\n",
      " training rmse =  1224.016957002482\n",
      "169/169 [==============================] - 0s 1ms/step\n",
      " test rmse     =  1158.928341805635\n"
     ]
    }
   ],
   "source": [
    "ann = tf.keras.Sequential([\n",
    "    tf.keras.Input(shape=[9]),\n",
    "    tf.keras.layers.Dense(units=5,activation='relu'),\n",
    "    tf.keras.layers.Dense(units=5,activation='relu'),\n",
    "    tf.keras.layers.Dropout(.15),\n",
    "    tf.keras.layers.Dense(units=5,activation='relu'),\n",
    "    tf.keras.layers.Dense(units=1)\n",
    "])\n",
    "\n",
    "opt = tf.keras.optimizers.Adam()\n",
    "los = tf.keras.losses.MeanSquaredError()\n",
    "met = tfa.metrics.r_square.RSquare()\n",
    "ann.compile(metrics = met,optimizer = opt,loss = los)\n",
    "\n",
    "history = ann.fit(xtrain,ytrain,epochs=20,validation_split=1/9)\n",
    "\n",
    "yhat = ann.predict(xtest)\n",
    "print(' r2 score on traiing data          = ', history.history['r_square'][-1])\n",
    "print(' r2 score on cross validation data = ', history.history['val_r_square'][-1])\n",
    "print(' r2 score on test data             = ', r2_score(ytest,yhat))\n",
    "\n",
    "print(' training rmse = ',mse(ann.predict(xtrain),ytrain)**.5) \n",
    "print(' test rmse     = ',mse(ann.predict(xtest),ytest)**.5)"
   ]
  },
  {
   "cell_type": "markdown",
   "id": "9f47fa23",
   "metadata": {},
   "source": [
    "<a id = 'conclusions'></a>\n",
    "### Comparing the performance of various models\n",
    "\n",
    "   |Model Name        | Train R2 score | Validation R2 score| Test R2 score| Train rmse | Test rmse|\n",
    "   |  :-:             |      :-:       |         :-:        |      :-:     |    :-:     |   :-:    |\n",
    "   |Linear Regression      |.88|.89|.89|1354|1316|\n",
    "   |Ridge Regression       |.88|.89|.89|1354|1317|\n",
    "   |Knn Regressor          |.96|.95|.95|738|798|\n",
    "   |Dtree Regressor        |.98|.97|.97|445|616|\n",
    "   |Rforest Regressor      |.99|.97|.97|381|592|\n",
    "   |Ann Regressor          |.82|.91|.91|1224|1158|\n",
    "\n",
    "### Report\n",
    "- The Random forest regressor yeilded the best performance for this problem\n",
    "- The Caret,x,y,z : heavily influenced the price of a diamond\n",
    "\n",
    "------------------------------------------------------------------------------------[BACK TO TOP](#top)"
   ]
  },
  {
   "cell_type": "code",
   "execution_count": null,
   "id": "9db3b2b3",
   "metadata": {},
   "outputs": [],
   "source": []
  }
 ],
 "metadata": {
  "kernelspec": {
   "display_name": "Python 3 (ipykernel)",
   "language": "python",
   "name": "python3"
  },
  "language_info": {
   "codemirror_mode": {
    "name": "ipython",
    "version": 3
   },
   "file_extension": ".py",
   "mimetype": "text/x-python",
   "name": "python",
   "nbconvert_exporter": "python",
   "pygments_lexer": "ipython3",
   "version": "3.9.12"
  }
 },
 "nbformat": 4,
 "nbformat_minor": 5
}
